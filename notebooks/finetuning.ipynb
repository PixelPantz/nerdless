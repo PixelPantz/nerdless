{
  "nbformat": 4,
  "nbformat_minor": 0,
  "metadata": {
    "colab": {
      "provenance": [],
      "gpuType": "T4",
      "toc_visible": true
    },
    "kernelspec": {
      "name": "python3",
      "display_name": "Python 3"
    },
    "language_info": {
      "name": "python"
    },
    "accelerator": "GPU"
  },
  "cells": [
    {
      "cell_type": "markdown",
      "source": [
        "# Finetuning ruDialoGPT-medium"
      ],
      "metadata": {
        "id": "Kuh7_kLq85iD"
      }
    },
    {
      "cell_type": "markdown",
      "source": [
        "Finetuning [tinkoff-ai/ruDialoGPT-medium](https://huggingface.co/tinkoff-ai/ruDialoGPT-medium) conversational language model on a custom toxic (!) dialogue dataset arranged from [raw data](https://github.com/Koziev/NLP_Datasets).  \n",
        "See [this notebook](https://github.com/RakePants/nerdless/blob/main/notebooks/dataset.ipynb) for dataset arrangment."
      ],
      "metadata": {
        "id": "oK_DDxDy-IYs"
      }
    },
    {
      "cell_type": "markdown",
      "source": [
        "Training on Colab T4 runtime with 350000 train/val samples."
      ],
      "metadata": {
        "id": "0wDut1wH-3Kl"
      }
    },
    {
      "cell_type": "markdown",
      "source": [
        "## Setup"
      ],
      "metadata": {
        "id": "WNLUIyCN9ILV"
      }
    },
    {
      "cell_type": "code",
      "execution_count": null,
      "metadata": {
        "id": "QA4c79ZDOYhf"
      },
      "outputs": [],
      "source": [
        "!pip install -U transformers accelerate datasets --quiet"
      ]
    },
    {
      "cell_type": "code",
      "source": [
        "import json\n",
        "import pandas as pd\n",
        "import numpy as np\n",
        "\n",
        "from tqdm import tqdm\n",
        "\n",
        "import torch\n",
        "from torch.utils.data import DataLoader\n",
        "from transformers import AutoModelForCausalLM, AutoTokenizer\n",
        "from datasets import Dataset, DatasetDict\n",
        "\n",
        "from sklearn.model_selection import train_test_split\n",
        "from sklearn.metrics import accuracy_score, recall_score, precision_score, f1_score\n",
        "\n",
        "from transformers import TrainingArguments, Trainer, DataCollatorForLanguageModeling"
      ],
      "metadata": {
        "id": "TqGTATjBO2fM"
      },
      "execution_count": 2,
      "outputs": []
    },
    {
      "cell_type": "code",
      "source": [
        "checkpoint = \"tinkoff-ai/ruDialoGPT-medium\"\n",
        "tokenizer = AutoTokenizer.from_pretrained(checkpoint)\n",
        "model = AutoModelForCausalLM.from_pretrained(checkpoint, device_map='cuda')"
      ],
      "metadata": {
        "id": "1jm4SvVKm8TU"
      },
      "execution_count": null,
      "outputs": []
    },
    {
      "cell_type": "markdown",
      "source": [
        "Downloading the custom dataset."
      ],
      "metadata": {
        "id": "PRpMZonA-ldj"
      }
    },
    {
      "cell_type": "code",
      "source": [
        "!gdown 'https://drive.google.com/uc?id=19Opycplqv-2oGUFGsjNPFwGHmaYgaEoh'"
      ],
      "metadata": {
        "id": "FP1pRUYA9whP"
      },
      "execution_count": null,
      "outputs": []
    },
    {
      "cell_type": "code",
      "source": [
        "# Read to pandas DataFrame first\n",
        "df = pd.read_csv(\"io_dialogues.csv\")"
      ],
      "metadata": {
        "id": "1AEmX0mOPcte"
      },
      "execution_count": 9,
      "outputs": []
    },
    {
      "cell_type": "code",
      "source": [
        "df"
      ],
      "metadata": {
        "colab": {
          "base_uri": "https://localhost:8080/",
          "height": 424
        },
        "id": "1DztdCf7-kRj",
        "outputId": "5954d3d9-2bd5-453e-f10b-87f6570a86b2"
      },
      "execution_count": 10,
      "outputs": [
        {
          "output_type": "execute_result",
          "data": {
            "text/plain": [
              "                                                    input  \\\n",
              "0       Себорея, витилиго, нейродермит, псориаз и проч...   \n",
              "1       Могу хуй отсосать. Куда подъезжать?\\nна декабр...   \n",
              "2       Го\\nНадо что-то придумать интересное\\nГо КАЗАК...   \n",
              "3                                                    Ура!   \n",
              "4                                    Надеюсь с G&K и BNW?   \n",
              "...                                                   ...   \n",
              "592543  А сегодня не будет иммиграции в бессонную лощи...   \n",
              "592544  Как поживаете, уютные?\\nНервно.\\nФеназепамчику...   \n",
              "592545  Уютного утречка бодрствующим уютняшкам и сладк...   \n",
              "592546  С какой части нужно начать, чтобы постичь всел...   \n",
              "592547  Здравствуйте. Как жизнь?\\nРазве дотеров интере...   \n",
              "\n",
              "                                                   output  \n",
              "0          От всориаза - нет. От вторичной инфекции - да.  \n",
              "1                А я думал улица пушкина, дом калатушкина  \n",
              "2                                         А еще что есть?  \n",
              "3                                                    Ура!  \n",
              "4                                                  есесна  \n",
              "...                                                   ...  \n",
              "592543         Насколько? думаю мне стоило бы их нарубить  \n",
              "592544                    Не пиши мне такие ужасные вещи.  \n",
              "592545     Ага. А ведь еще совсем недавно тред был живой.  \n",
              "592546                                          Не нужно.  \n",
              "592547  Лошадушки мои, конечно же. Это уже на всю жизн...  \n",
              "\n",
              "[592548 rows x 2 columns]"
            ],
            "text/html": [
              "\n",
              "  <div id=\"df-3469ab47-cbbd-4f61-904e-ab477b38c44e\" class=\"colab-df-container\">\n",
              "    <div>\n",
              "<style scoped>\n",
              "    .dataframe tbody tr th:only-of-type {\n",
              "        vertical-align: middle;\n",
              "    }\n",
              "\n",
              "    .dataframe tbody tr th {\n",
              "        vertical-align: top;\n",
              "    }\n",
              "\n",
              "    .dataframe thead th {\n",
              "        text-align: right;\n",
              "    }\n",
              "</style>\n",
              "<table border=\"1\" class=\"dataframe\">\n",
              "  <thead>\n",
              "    <tr style=\"text-align: right;\">\n",
              "      <th></th>\n",
              "      <th>input</th>\n",
              "      <th>output</th>\n",
              "    </tr>\n",
              "  </thead>\n",
              "  <tbody>\n",
              "    <tr>\n",
              "      <th>0</th>\n",
              "      <td>Себорея, витилиго, нейродермит, псориаз и проч...</td>\n",
              "      <td>От всориаза - нет. От вторичной инфекции - да.</td>\n",
              "    </tr>\n",
              "    <tr>\n",
              "      <th>1</th>\n",
              "      <td>Могу хуй отсосать. Куда подъезжать?\\nна декабр...</td>\n",
              "      <td>А я думал улица пушкина, дом калатушкина</td>\n",
              "    </tr>\n",
              "    <tr>\n",
              "      <th>2</th>\n",
              "      <td>Го\\nНадо что-то придумать интересное\\nГо КАЗАК...</td>\n",
              "      <td>А еще что есть?</td>\n",
              "    </tr>\n",
              "    <tr>\n",
              "      <th>3</th>\n",
              "      <td>Ура!</td>\n",
              "      <td>Ура!</td>\n",
              "    </tr>\n",
              "    <tr>\n",
              "      <th>4</th>\n",
              "      <td>Надеюсь с G&amp;K и BNW?</td>\n",
              "      <td>есесна</td>\n",
              "    </tr>\n",
              "    <tr>\n",
              "      <th>...</th>\n",
              "      <td>...</td>\n",
              "      <td>...</td>\n",
              "    </tr>\n",
              "    <tr>\n",
              "      <th>592543</th>\n",
              "      <td>А сегодня не будет иммиграции в бессонную лощи...</td>\n",
              "      <td>Насколько? думаю мне стоило бы их нарубить</td>\n",
              "    </tr>\n",
              "    <tr>\n",
              "      <th>592544</th>\n",
              "      <td>Как поживаете, уютные?\\nНервно.\\nФеназепамчику...</td>\n",
              "      <td>Не пиши мне такие ужасные вещи.</td>\n",
              "    </tr>\n",
              "    <tr>\n",
              "      <th>592545</th>\n",
              "      <td>Уютного утречка бодрствующим уютняшкам и сладк...</td>\n",
              "      <td>Ага. А ведь еще совсем недавно тред был живой.</td>\n",
              "    </tr>\n",
              "    <tr>\n",
              "      <th>592546</th>\n",
              "      <td>С какой части нужно начать, чтобы постичь всел...</td>\n",
              "      <td>Не нужно.</td>\n",
              "    </tr>\n",
              "    <tr>\n",
              "      <th>592547</th>\n",
              "      <td>Здравствуйте. Как жизнь?\\nРазве дотеров интере...</td>\n",
              "      <td>Лошадушки мои, конечно же. Это уже на всю жизн...</td>\n",
              "    </tr>\n",
              "  </tbody>\n",
              "</table>\n",
              "<p>592548 rows × 2 columns</p>\n",
              "</div>\n",
              "    <div class=\"colab-df-buttons\">\n",
              "\n",
              "  <div class=\"colab-df-container\">\n",
              "    <button class=\"colab-df-convert\" onclick=\"convertToInteractive('df-3469ab47-cbbd-4f61-904e-ab477b38c44e')\"\n",
              "            title=\"Convert this dataframe to an interactive table.\"\n",
              "            style=\"display:none;\">\n",
              "\n",
              "  <svg xmlns=\"http://www.w3.org/2000/svg\" height=\"24px\" viewBox=\"0 -960 960 960\">\n",
              "    <path d=\"M120-120v-720h720v720H120Zm60-500h600v-160H180v160Zm220 220h160v-160H400v160Zm0 220h160v-160H400v160ZM180-400h160v-160H180v160Zm440 0h160v-160H620v160ZM180-180h160v-160H180v160Zm440 0h160v-160H620v160Z\"/>\n",
              "  </svg>\n",
              "    </button>\n",
              "\n",
              "  <style>\n",
              "    .colab-df-container {\n",
              "      display:flex;\n",
              "      gap: 12px;\n",
              "    }\n",
              "\n",
              "    .colab-df-convert {\n",
              "      background-color: #E8F0FE;\n",
              "      border: none;\n",
              "      border-radius: 50%;\n",
              "      cursor: pointer;\n",
              "      display: none;\n",
              "      fill: #1967D2;\n",
              "      height: 32px;\n",
              "      padding: 0 0 0 0;\n",
              "      width: 32px;\n",
              "    }\n",
              "\n",
              "    .colab-df-convert:hover {\n",
              "      background-color: #E2EBFA;\n",
              "      box-shadow: 0px 1px 2px rgba(60, 64, 67, 0.3), 0px 1px 3px 1px rgba(60, 64, 67, 0.15);\n",
              "      fill: #174EA6;\n",
              "    }\n",
              "\n",
              "    .colab-df-buttons div {\n",
              "      margin-bottom: 4px;\n",
              "    }\n",
              "\n",
              "    [theme=dark] .colab-df-convert {\n",
              "      background-color: #3B4455;\n",
              "      fill: #D2E3FC;\n",
              "    }\n",
              "\n",
              "    [theme=dark] .colab-df-convert:hover {\n",
              "      background-color: #434B5C;\n",
              "      box-shadow: 0px 1px 3px 1px rgba(0, 0, 0, 0.15);\n",
              "      filter: drop-shadow(0px 1px 2px rgba(0, 0, 0, 0.3));\n",
              "      fill: #FFFFFF;\n",
              "    }\n",
              "  </style>\n",
              "\n",
              "    <script>\n",
              "      const buttonEl =\n",
              "        document.querySelector('#df-3469ab47-cbbd-4f61-904e-ab477b38c44e button.colab-df-convert');\n",
              "      buttonEl.style.display =\n",
              "        google.colab.kernel.accessAllowed ? 'block' : 'none';\n",
              "\n",
              "      async function convertToInteractive(key) {\n",
              "        const element = document.querySelector('#df-3469ab47-cbbd-4f61-904e-ab477b38c44e');\n",
              "        const dataTable =\n",
              "          await google.colab.kernel.invokeFunction('convertToInteractive',\n",
              "                                                    [key], {});\n",
              "        if (!dataTable) return;\n",
              "\n",
              "        const docLinkHtml = 'Like what you see? Visit the ' +\n",
              "          '<a target=\"_blank\" href=https://colab.research.google.com/notebooks/data_table.ipynb>data table notebook</a>'\n",
              "          + ' to learn more about interactive tables.';\n",
              "        element.innerHTML = '';\n",
              "        dataTable['output_type'] = 'display_data';\n",
              "        await google.colab.output.renderOutput(dataTable, element);\n",
              "        const docLink = document.createElement('div');\n",
              "        docLink.innerHTML = docLinkHtml;\n",
              "        element.appendChild(docLink);\n",
              "      }\n",
              "    </script>\n",
              "  </div>\n",
              "\n",
              "\n",
              "<div id=\"df-66c0eeac-285a-4ad3-9583-ba9db125ed6b\">\n",
              "  <button class=\"colab-df-quickchart\" onclick=\"quickchart('df-66c0eeac-285a-4ad3-9583-ba9db125ed6b')\"\n",
              "            title=\"Suggest charts\"\n",
              "            style=\"display:none;\">\n",
              "\n",
              "<svg xmlns=\"http://www.w3.org/2000/svg\" height=\"24px\"viewBox=\"0 0 24 24\"\n",
              "     width=\"24px\">\n",
              "    <g>\n",
              "        <path d=\"M19 3H5c-1.1 0-2 .9-2 2v14c0 1.1.9 2 2 2h14c1.1 0 2-.9 2-2V5c0-1.1-.9-2-2-2zM9 17H7v-7h2v7zm4 0h-2V7h2v10zm4 0h-2v-4h2v4z\"/>\n",
              "    </g>\n",
              "</svg>\n",
              "  </button>\n",
              "\n",
              "<style>\n",
              "  .colab-df-quickchart {\n",
              "      --bg-color: #E8F0FE;\n",
              "      --fill-color: #1967D2;\n",
              "      --hover-bg-color: #E2EBFA;\n",
              "      --hover-fill-color: #174EA6;\n",
              "      --disabled-fill-color: #AAA;\n",
              "      --disabled-bg-color: #DDD;\n",
              "  }\n",
              "\n",
              "  [theme=dark] .colab-df-quickchart {\n",
              "      --bg-color: #3B4455;\n",
              "      --fill-color: #D2E3FC;\n",
              "      --hover-bg-color: #434B5C;\n",
              "      --hover-fill-color: #FFFFFF;\n",
              "      --disabled-bg-color: #3B4455;\n",
              "      --disabled-fill-color: #666;\n",
              "  }\n",
              "\n",
              "  .colab-df-quickchart {\n",
              "    background-color: var(--bg-color);\n",
              "    border: none;\n",
              "    border-radius: 50%;\n",
              "    cursor: pointer;\n",
              "    display: none;\n",
              "    fill: var(--fill-color);\n",
              "    height: 32px;\n",
              "    padding: 0;\n",
              "    width: 32px;\n",
              "  }\n",
              "\n",
              "  .colab-df-quickchart:hover {\n",
              "    background-color: var(--hover-bg-color);\n",
              "    box-shadow: 0 1px 2px rgba(60, 64, 67, 0.3), 0 1px 3px 1px rgba(60, 64, 67, 0.15);\n",
              "    fill: var(--button-hover-fill-color);\n",
              "  }\n",
              "\n",
              "  .colab-df-quickchart-complete:disabled,\n",
              "  .colab-df-quickchart-complete:disabled:hover {\n",
              "    background-color: var(--disabled-bg-color);\n",
              "    fill: var(--disabled-fill-color);\n",
              "    box-shadow: none;\n",
              "  }\n",
              "\n",
              "  .colab-df-spinner {\n",
              "    border: 2px solid var(--fill-color);\n",
              "    border-color: transparent;\n",
              "    border-bottom-color: var(--fill-color);\n",
              "    animation:\n",
              "      spin 1s steps(1) infinite;\n",
              "  }\n",
              "\n",
              "  @keyframes spin {\n",
              "    0% {\n",
              "      border-color: transparent;\n",
              "      border-bottom-color: var(--fill-color);\n",
              "      border-left-color: var(--fill-color);\n",
              "    }\n",
              "    20% {\n",
              "      border-color: transparent;\n",
              "      border-left-color: var(--fill-color);\n",
              "      border-top-color: var(--fill-color);\n",
              "    }\n",
              "    30% {\n",
              "      border-color: transparent;\n",
              "      border-left-color: var(--fill-color);\n",
              "      border-top-color: var(--fill-color);\n",
              "      border-right-color: var(--fill-color);\n",
              "    }\n",
              "    40% {\n",
              "      border-color: transparent;\n",
              "      border-right-color: var(--fill-color);\n",
              "      border-top-color: var(--fill-color);\n",
              "    }\n",
              "    60% {\n",
              "      border-color: transparent;\n",
              "      border-right-color: var(--fill-color);\n",
              "    }\n",
              "    80% {\n",
              "      border-color: transparent;\n",
              "      border-right-color: var(--fill-color);\n",
              "      border-bottom-color: var(--fill-color);\n",
              "    }\n",
              "    90% {\n",
              "      border-color: transparent;\n",
              "      border-bottom-color: var(--fill-color);\n",
              "    }\n",
              "  }\n",
              "</style>\n",
              "\n",
              "  <script>\n",
              "    async function quickchart(key) {\n",
              "      const quickchartButtonEl =\n",
              "        document.querySelector('#' + key + ' button');\n",
              "      quickchartButtonEl.disabled = true;  // To prevent multiple clicks.\n",
              "      quickchartButtonEl.classList.add('colab-df-spinner');\n",
              "      try {\n",
              "        const charts = await google.colab.kernel.invokeFunction(\n",
              "            'suggestCharts', [key], {});\n",
              "      } catch (error) {\n",
              "        console.error('Error during call to suggestCharts:', error);\n",
              "      }\n",
              "      quickchartButtonEl.classList.remove('colab-df-spinner');\n",
              "      quickchartButtonEl.classList.add('colab-df-quickchart-complete');\n",
              "    }\n",
              "    (() => {\n",
              "      let quickchartButtonEl =\n",
              "        document.querySelector('#df-66c0eeac-285a-4ad3-9583-ba9db125ed6b button');\n",
              "      quickchartButtonEl.style.display =\n",
              "        google.colab.kernel.accessAllowed ? 'block' : 'none';\n",
              "    })();\n",
              "  </script>\n",
              "</div>\n",
              "    </div>\n",
              "  </div>\n"
            ]
          },
          "metadata": {},
          "execution_count": 10
        }
      ]
    },
    {
      "cell_type": "markdown",
      "source": [
        "Dialogue lines in the 'input' column are divided by '\\n'."
      ],
      "metadata": {
        "id": "nVNbrrClApF8"
      }
    },
    {
      "cell_type": "markdown",
      "source": [
        "## Data transformation"
      ],
      "metadata": {
        "id": "QWIx085o9MRu"
      }
    },
    {
      "cell_type": "code",
      "source": [
        "max_length = 96  # Maximum length of a sample including special tokens (2048 for default model, will keep all samples)"
      ],
      "metadata": {
        "id": "TfpgxQs2y3cT"
      },
      "execution_count": 6,
      "outputs": []
    },
    {
      "cell_type": "markdown",
      "source": [
        "Put special tokens 50257 and 50258 as dialogue lines separators. 50257 is also the default eos token."
      ],
      "metadata": {
        "id": "JE3IRqGmAv1_"
      }
    },
    {
      "cell_type": "code",
      "source": [
        "# Function to transform 'input' column\n",
        "def transform_text(row):\n",
        "    input_text = row['input']\n",
        "\n",
        "    if '\\n' in input_text:\n",
        "        lines = input_text.split('\\n')\n",
        "    else:\n",
        "        lines = [input_text]\n",
        "\n",
        "    token_first = tokenizer.convert_ids_to_tokens(50257)  # @@ПЕРВЫЙ@@\n",
        "    token_second = tokenizer.convert_ids_to_tokens(50258)  # @@ВТОРОЙ@@\n",
        "\n",
        "    if len(lines) % 2 == 0:\n",
        "        flag_first = False\n",
        "    else:\n",
        "        flag_first = True\n",
        "\n",
        "    for i, line in enumerate(lines):\n",
        "        if flag_first:\n",
        "            lines[i] = token_first + line\n",
        "        else:\n",
        "            lines[i] = token_second + line\n",
        "        flag_first = not flag_first\n",
        "\n",
        "    transformed_text = ''.join(lines)\n",
        "\n",
        "    # Append the appropriate token at the end\n",
        "    transformed_text += token_second\n",
        "\n",
        "    if max_length < 2048:  # Else no need to check the length\n",
        "        if len(tokenizer.tokenize(transformed_text)) > max_length:  # Drop samples longer that max length\n",
        "            return None\n",
        "\n",
        "    return transformed_text\n",
        "\n",
        "\n",
        "# Function to transform 'output' column\n",
        "def transform_output(row):\n",
        "\n",
        "    token_first = tokenizer.convert_ids_to_tokens(50257)  # @@ПЕРВЫЙ@@\n",
        "    transformed_text = row['output'] + token_first\n",
        "\n",
        "    if max_length < 2048:  # Else no need to check the length\n",
        "        if len(tokenizer.tokenize(transformed_text)) > max_length:  # Drop samples longer that max length\n",
        "            return None\n",
        "\n",
        "    return transformed_text"
      ],
      "metadata": {
        "id": "XJbGithdPkFQ"
      },
      "execution_count": 12,
      "outputs": []
    },
    {
      "cell_type": "code",
      "source": [
        "# Apply transformations to each row in both columns\n",
        "df['input'] = df.apply(transform_text, axis=1)\n",
        "df['output'] = df.apply(transform_output, axis=1)\n",
        "df = df.dropna().reset_index(drop=True)"
      ],
      "metadata": {
        "id": "M5h9FjzsPnRe"
      },
      "execution_count": 13,
      "outputs": []
    },
    {
      "cell_type": "code",
      "source": [
        "df"
      ],
      "metadata": {
        "colab": {
          "base_uri": "https://localhost:8080/",
          "height": 424
        },
        "id": "6qWCr-VK0nx9",
        "outputId": "972003b3-8e0e-403d-d050-93ec712edd2b"
      },
      "execution_count": 14,
      "outputs": [
        {
          "output_type": "execute_result",
          "data": {
            "text/plain": [
              "                                                    input  \\\n",
              "0       @@ВТОРОЙ@@Себорея, витилиго, нейродермит, псор...   \n",
              "1       @@ВТОРОЙ@@Могу хуй отсосать. Куда подъезжать?@...   \n",
              "2       @@ПЕРВЫЙ@@Го@@ВТОРОЙ@@Надо что-то придумать ин...   \n",
              "3                                @@ПЕРВЫЙ@@Ура!@@ВТОРОЙ@@   \n",
              "4                @@ПЕРВЫЙ@@Надеюсь с G&K и BNW?@@ВТОРОЙ@@   \n",
              "...                                                   ...   \n",
              "592452  @@ВТОРОЙ@@А сегодня не будет иммиграции в бесс...   \n",
              "592453  @@ВТОРОЙ@@Как поживаете, уютные?@@ПЕРВЫЙ@@Нерв...   \n",
              "592454  @@ПЕРВЫЙ@@Уютного утречка бодрствующим уютняшк...   \n",
              "592455  @@ПЕРВЫЙ@@С какой части нужно начать, чтобы по...   \n",
              "592456  @@ВТОРОЙ@@Здравствуйте. Как жизнь?@@ПЕРВЫЙ@@Ра...   \n",
              "\n",
              "                                                   output  \n",
              "0       От всориаза - нет. От вторичной инфекции - да....  \n",
              "1       А я думал улица пушкина, дом калатушкина@@ПЕРВ...  \n",
              "2                               А еще что есть?@@ПЕРВЫЙ@@  \n",
              "3                                          Ура!@@ПЕРВЫЙ@@  \n",
              "4                                        есесна@@ПЕРВЫЙ@@  \n",
              "...                                                   ...  \n",
              "592452  Насколько? думаю мне стоило бы их нарубить@@ПЕ...  \n",
              "592453          Не пиши мне такие ужасные вещи.@@ПЕРВЫЙ@@  \n",
              "592454  Ага. А ведь еще совсем недавно тред был живой....  \n",
              "592455                                Не нужно.@@ПЕРВЫЙ@@  \n",
              "592456  Лошадушки мои, конечно же. Это уже на всю жизн...  \n",
              "\n",
              "[592457 rows x 2 columns]"
            ],
            "text/html": [
              "\n",
              "  <div id=\"df-061b7f85-2afd-4494-b3a4-d94d3318156b\" class=\"colab-df-container\">\n",
              "    <div>\n",
              "<style scoped>\n",
              "    .dataframe tbody tr th:only-of-type {\n",
              "        vertical-align: middle;\n",
              "    }\n",
              "\n",
              "    .dataframe tbody tr th {\n",
              "        vertical-align: top;\n",
              "    }\n",
              "\n",
              "    .dataframe thead th {\n",
              "        text-align: right;\n",
              "    }\n",
              "</style>\n",
              "<table border=\"1\" class=\"dataframe\">\n",
              "  <thead>\n",
              "    <tr style=\"text-align: right;\">\n",
              "      <th></th>\n",
              "      <th>input</th>\n",
              "      <th>output</th>\n",
              "    </tr>\n",
              "  </thead>\n",
              "  <tbody>\n",
              "    <tr>\n",
              "      <th>0</th>\n",
              "      <td>@@ВТОРОЙ@@Себорея, витилиго, нейродермит, псор...</td>\n",
              "      <td>От всориаза - нет. От вторичной инфекции - да....</td>\n",
              "    </tr>\n",
              "    <tr>\n",
              "      <th>1</th>\n",
              "      <td>@@ВТОРОЙ@@Могу хуй отсосать. Куда подъезжать?@...</td>\n",
              "      <td>А я думал улица пушкина, дом калатушкина@@ПЕРВ...</td>\n",
              "    </tr>\n",
              "    <tr>\n",
              "      <th>2</th>\n",
              "      <td>@@ПЕРВЫЙ@@Го@@ВТОРОЙ@@Надо что-то придумать ин...</td>\n",
              "      <td>А еще что есть?@@ПЕРВЫЙ@@</td>\n",
              "    </tr>\n",
              "    <tr>\n",
              "      <th>3</th>\n",
              "      <td>@@ПЕРВЫЙ@@Ура!@@ВТОРОЙ@@</td>\n",
              "      <td>Ура!@@ПЕРВЫЙ@@</td>\n",
              "    </tr>\n",
              "    <tr>\n",
              "      <th>4</th>\n",
              "      <td>@@ПЕРВЫЙ@@Надеюсь с G&amp;K и BNW?@@ВТОРОЙ@@</td>\n",
              "      <td>есесна@@ПЕРВЫЙ@@</td>\n",
              "    </tr>\n",
              "    <tr>\n",
              "      <th>...</th>\n",
              "      <td>...</td>\n",
              "      <td>...</td>\n",
              "    </tr>\n",
              "    <tr>\n",
              "      <th>592452</th>\n",
              "      <td>@@ВТОРОЙ@@А сегодня не будет иммиграции в бесс...</td>\n",
              "      <td>Насколько? думаю мне стоило бы их нарубить@@ПЕ...</td>\n",
              "    </tr>\n",
              "    <tr>\n",
              "      <th>592453</th>\n",
              "      <td>@@ВТОРОЙ@@Как поживаете, уютные?@@ПЕРВЫЙ@@Нерв...</td>\n",
              "      <td>Не пиши мне такие ужасные вещи.@@ПЕРВЫЙ@@</td>\n",
              "    </tr>\n",
              "    <tr>\n",
              "      <th>592454</th>\n",
              "      <td>@@ПЕРВЫЙ@@Уютного утречка бодрствующим уютняшк...</td>\n",
              "      <td>Ага. А ведь еще совсем недавно тред был живой....</td>\n",
              "    </tr>\n",
              "    <tr>\n",
              "      <th>592455</th>\n",
              "      <td>@@ПЕРВЫЙ@@С какой части нужно начать, чтобы по...</td>\n",
              "      <td>Не нужно.@@ПЕРВЫЙ@@</td>\n",
              "    </tr>\n",
              "    <tr>\n",
              "      <th>592456</th>\n",
              "      <td>@@ВТОРОЙ@@Здравствуйте. Как жизнь?@@ПЕРВЫЙ@@Ра...</td>\n",
              "      <td>Лошадушки мои, конечно же. Это уже на всю жизн...</td>\n",
              "    </tr>\n",
              "  </tbody>\n",
              "</table>\n",
              "<p>592457 rows × 2 columns</p>\n",
              "</div>\n",
              "    <div class=\"colab-df-buttons\">\n",
              "\n",
              "  <div class=\"colab-df-container\">\n",
              "    <button class=\"colab-df-convert\" onclick=\"convertToInteractive('df-061b7f85-2afd-4494-b3a4-d94d3318156b')\"\n",
              "            title=\"Convert this dataframe to an interactive table.\"\n",
              "            style=\"display:none;\">\n",
              "\n",
              "  <svg xmlns=\"http://www.w3.org/2000/svg\" height=\"24px\" viewBox=\"0 -960 960 960\">\n",
              "    <path d=\"M120-120v-720h720v720H120Zm60-500h600v-160H180v160Zm220 220h160v-160H400v160Zm0 220h160v-160H400v160ZM180-400h160v-160H180v160Zm440 0h160v-160H620v160ZM180-180h160v-160H180v160Zm440 0h160v-160H620v160Z\"/>\n",
              "  </svg>\n",
              "    </button>\n",
              "\n",
              "  <style>\n",
              "    .colab-df-container {\n",
              "      display:flex;\n",
              "      gap: 12px;\n",
              "    }\n",
              "\n",
              "    .colab-df-convert {\n",
              "      background-color: #E8F0FE;\n",
              "      border: none;\n",
              "      border-radius: 50%;\n",
              "      cursor: pointer;\n",
              "      display: none;\n",
              "      fill: #1967D2;\n",
              "      height: 32px;\n",
              "      padding: 0 0 0 0;\n",
              "      width: 32px;\n",
              "    }\n",
              "\n",
              "    .colab-df-convert:hover {\n",
              "      background-color: #E2EBFA;\n",
              "      box-shadow: 0px 1px 2px rgba(60, 64, 67, 0.3), 0px 1px 3px 1px rgba(60, 64, 67, 0.15);\n",
              "      fill: #174EA6;\n",
              "    }\n",
              "\n",
              "    .colab-df-buttons div {\n",
              "      margin-bottom: 4px;\n",
              "    }\n",
              "\n",
              "    [theme=dark] .colab-df-convert {\n",
              "      background-color: #3B4455;\n",
              "      fill: #D2E3FC;\n",
              "    }\n",
              "\n",
              "    [theme=dark] .colab-df-convert:hover {\n",
              "      background-color: #434B5C;\n",
              "      box-shadow: 0px 1px 3px 1px rgba(0, 0, 0, 0.15);\n",
              "      filter: drop-shadow(0px 1px 2px rgba(0, 0, 0, 0.3));\n",
              "      fill: #FFFFFF;\n",
              "    }\n",
              "  </style>\n",
              "\n",
              "    <script>\n",
              "      const buttonEl =\n",
              "        document.querySelector('#df-061b7f85-2afd-4494-b3a4-d94d3318156b button.colab-df-convert');\n",
              "      buttonEl.style.display =\n",
              "        google.colab.kernel.accessAllowed ? 'block' : 'none';\n",
              "\n",
              "      async function convertToInteractive(key) {\n",
              "        const element = document.querySelector('#df-061b7f85-2afd-4494-b3a4-d94d3318156b');\n",
              "        const dataTable =\n",
              "          await google.colab.kernel.invokeFunction('convertToInteractive',\n",
              "                                                    [key], {});\n",
              "        if (!dataTable) return;\n",
              "\n",
              "        const docLinkHtml = 'Like what you see? Visit the ' +\n",
              "          '<a target=\"_blank\" href=https://colab.research.google.com/notebooks/data_table.ipynb>data table notebook</a>'\n",
              "          + ' to learn more about interactive tables.';\n",
              "        element.innerHTML = '';\n",
              "        dataTable['output_type'] = 'display_data';\n",
              "        await google.colab.output.renderOutput(dataTable, element);\n",
              "        const docLink = document.createElement('div');\n",
              "        docLink.innerHTML = docLinkHtml;\n",
              "        element.appendChild(docLink);\n",
              "      }\n",
              "    </script>\n",
              "  </div>\n",
              "\n",
              "\n",
              "<div id=\"df-191e1683-3139-4f01-8ef3-27a471132960\">\n",
              "  <button class=\"colab-df-quickchart\" onclick=\"quickchart('df-191e1683-3139-4f01-8ef3-27a471132960')\"\n",
              "            title=\"Suggest charts\"\n",
              "            style=\"display:none;\">\n",
              "\n",
              "<svg xmlns=\"http://www.w3.org/2000/svg\" height=\"24px\"viewBox=\"0 0 24 24\"\n",
              "     width=\"24px\">\n",
              "    <g>\n",
              "        <path d=\"M19 3H5c-1.1 0-2 .9-2 2v14c0 1.1.9 2 2 2h14c1.1 0 2-.9 2-2V5c0-1.1-.9-2-2-2zM9 17H7v-7h2v7zm4 0h-2V7h2v10zm4 0h-2v-4h2v4z\"/>\n",
              "    </g>\n",
              "</svg>\n",
              "  </button>\n",
              "\n",
              "<style>\n",
              "  .colab-df-quickchart {\n",
              "      --bg-color: #E8F0FE;\n",
              "      --fill-color: #1967D2;\n",
              "      --hover-bg-color: #E2EBFA;\n",
              "      --hover-fill-color: #174EA6;\n",
              "      --disabled-fill-color: #AAA;\n",
              "      --disabled-bg-color: #DDD;\n",
              "  }\n",
              "\n",
              "  [theme=dark] .colab-df-quickchart {\n",
              "      --bg-color: #3B4455;\n",
              "      --fill-color: #D2E3FC;\n",
              "      --hover-bg-color: #434B5C;\n",
              "      --hover-fill-color: #FFFFFF;\n",
              "      --disabled-bg-color: #3B4455;\n",
              "      --disabled-fill-color: #666;\n",
              "  }\n",
              "\n",
              "  .colab-df-quickchart {\n",
              "    background-color: var(--bg-color);\n",
              "    border: none;\n",
              "    border-radius: 50%;\n",
              "    cursor: pointer;\n",
              "    display: none;\n",
              "    fill: var(--fill-color);\n",
              "    height: 32px;\n",
              "    padding: 0;\n",
              "    width: 32px;\n",
              "  }\n",
              "\n",
              "  .colab-df-quickchart:hover {\n",
              "    background-color: var(--hover-bg-color);\n",
              "    box-shadow: 0 1px 2px rgba(60, 64, 67, 0.3), 0 1px 3px 1px rgba(60, 64, 67, 0.15);\n",
              "    fill: var(--button-hover-fill-color);\n",
              "  }\n",
              "\n",
              "  .colab-df-quickchart-complete:disabled,\n",
              "  .colab-df-quickchart-complete:disabled:hover {\n",
              "    background-color: var(--disabled-bg-color);\n",
              "    fill: var(--disabled-fill-color);\n",
              "    box-shadow: none;\n",
              "  }\n",
              "\n",
              "  .colab-df-spinner {\n",
              "    border: 2px solid var(--fill-color);\n",
              "    border-color: transparent;\n",
              "    border-bottom-color: var(--fill-color);\n",
              "    animation:\n",
              "      spin 1s steps(1) infinite;\n",
              "  }\n",
              "\n",
              "  @keyframes spin {\n",
              "    0% {\n",
              "      border-color: transparent;\n",
              "      border-bottom-color: var(--fill-color);\n",
              "      border-left-color: var(--fill-color);\n",
              "    }\n",
              "    20% {\n",
              "      border-color: transparent;\n",
              "      border-left-color: var(--fill-color);\n",
              "      border-top-color: var(--fill-color);\n",
              "    }\n",
              "    30% {\n",
              "      border-color: transparent;\n",
              "      border-left-color: var(--fill-color);\n",
              "      border-top-color: var(--fill-color);\n",
              "      border-right-color: var(--fill-color);\n",
              "    }\n",
              "    40% {\n",
              "      border-color: transparent;\n",
              "      border-right-color: var(--fill-color);\n",
              "      border-top-color: var(--fill-color);\n",
              "    }\n",
              "    60% {\n",
              "      border-color: transparent;\n",
              "      border-right-color: var(--fill-color);\n",
              "    }\n",
              "    80% {\n",
              "      border-color: transparent;\n",
              "      border-right-color: var(--fill-color);\n",
              "      border-bottom-color: var(--fill-color);\n",
              "    }\n",
              "    90% {\n",
              "      border-color: transparent;\n",
              "      border-bottom-color: var(--fill-color);\n",
              "    }\n",
              "  }\n",
              "</style>\n",
              "\n",
              "  <script>\n",
              "    async function quickchart(key) {\n",
              "      const quickchartButtonEl =\n",
              "        document.querySelector('#' + key + ' button');\n",
              "      quickchartButtonEl.disabled = true;  // To prevent multiple clicks.\n",
              "      quickchartButtonEl.classList.add('colab-df-spinner');\n",
              "      try {\n",
              "        const charts = await google.colab.kernel.invokeFunction(\n",
              "            'suggestCharts', [key], {});\n",
              "      } catch (error) {\n",
              "        console.error('Error during call to suggestCharts:', error);\n",
              "      }\n",
              "      quickchartButtonEl.classList.remove('colab-df-spinner');\n",
              "      quickchartButtonEl.classList.add('colab-df-quickchart-complete');\n",
              "    }\n",
              "    (() => {\n",
              "      let quickchartButtonEl =\n",
              "        document.querySelector('#df-191e1683-3139-4f01-8ef3-27a471132960 button');\n",
              "      quickchartButtonEl.style.display =\n",
              "        google.colab.kernel.accessAllowed ? 'block' : 'none';\n",
              "    })();\n",
              "  </script>\n",
              "</div>\n",
              "    </div>\n",
              "  </div>\n"
            ]
          },
          "metadata": {},
          "execution_count": 14
        }
      ]
    },
    {
      "cell_type": "code",
      "source": [
        "dataset = Dataset.from_pandas(df)\n",
        "shuffled_dataset = dataset.shuffle(seed=42)\n",
        "\n",
        "limit = 350000  # Limit train & val size, 350000 is safe for T4 Colab configuration RAM\n",
        "test_size = 500  # Limit test size\n",
        "\n",
        "limited_dataset = Dataset.from_dict(shuffled_dataset[:limit])\n",
        "test_dataset = Dataset.from_dict(shuffled_dataset[limit:limit+test_size])  # Create test dataset of fixed length"
      ],
      "metadata": {
        "id": "b2AkdWgqP4zk"
      },
      "execution_count": 15,
      "outputs": []
    },
    {
      "cell_type": "code",
      "source": [
        "# Split the dataset into train, test, and validation sets\n",
        "train_dataset_dict = limited_dataset.train_test_split(test_size=0.2, shuffle=True)\n",
        "\n",
        "# Combine the splits into a single DatasetDict\n",
        "splits = DatasetDict({\n",
        "    'train': train_dataset_dict['train'],\n",
        "    'val': train_dataset_dict['test'],\n",
        "    'test': test_dataset,\n",
        "})"
      ],
      "metadata": {
        "id": "tF-kFUG1P6jJ"
      },
      "execution_count": 16,
      "outputs": []
    },
    {
      "cell_type": "code",
      "source": [
        "splits"
      ],
      "metadata": {
        "colab": {
          "base_uri": "https://localhost:8080/"
        },
        "id": "c3txR9o-jLWL",
        "outputId": "34f441f9-895e-4862-cad3-7238fa4832dd"
      },
      "execution_count": 17,
      "outputs": [
        {
          "output_type": "execute_result",
          "data": {
            "text/plain": [
              "DatasetDict({\n",
              "    train: Dataset({\n",
              "        features: ['input', 'output'],\n",
              "        num_rows: 280000\n",
              "    })\n",
              "    val: Dataset({\n",
              "        features: ['input', 'output'],\n",
              "        num_rows: 70000\n",
              "    })\n",
              "    test: Dataset({\n",
              "        features: ['input', 'output'],\n",
              "        num_rows: 500\n",
              "    })\n",
              "})"
            ]
          },
          "metadata": {},
          "execution_count": 17
        }
      ]
    },
    {
      "cell_type": "markdown",
      "source": [
        "## Tokenization and dataset creation"
      ],
      "metadata": {
        "id": "KSOIX-Lb_N5Z"
      }
    },
    {
      "cell_type": "code",
      "source": [
        "# Pad every sample to the same max_length\n",
        "\n",
        "X_train_tokenized = tokenizer(splits['train']['input'], padding='max_length', truncation=True, max_length=max_length, return_tensors='pt')\n",
        "y_train_tokenized = tokenizer(splits['train']['output'], padding='max_length', truncation=True, max_length=max_length, return_tensors='pt')\n",
        "\n",
        "X_val_tokenized = tokenizer(splits['val']['input'], padding='max_length', truncation=True, max_length=max_length, return_tensors='pt')\n",
        "y_val_tokenized = tokenizer(splits['val']['output'], padding='max_length', truncation=True, max_length=max_length, return_tensors='pt')"
      ],
      "metadata": {
        "id": "tce6-gZhjG2E"
      },
      "execution_count": null,
      "outputs": []
    },
    {
      "cell_type": "code",
      "source": [
        "class Dataset(torch.utils.data.Dataset):\n",
        "    def __init__(self, inputs, targets):\n",
        "        self.inputs = inputs\n",
        "        self.targets = targets\n",
        "\n",
        "    def __len__(self):\n",
        "        return len(self.inputs[\"input_ids\"])\n",
        "\n",
        "    def __getitem__(self, index):\n",
        "        input_ids = self.inputs[\"input_ids\"][index]\n",
        "        attention_mask = self.inputs[\"attention_mask\"][index]\n",
        "        target_ids = self.targets[\"input_ids\"][index]\n",
        "\n",
        "        return {\"input_ids\": input_ids, \"attention_mask\": attention_mask, \"labels\": target_ids}"
      ],
      "metadata": {
        "id": "abKCANKVjuCZ"
      },
      "execution_count": null,
      "outputs": []
    },
    {
      "cell_type": "code",
      "source": [
        "train_dataset = Dataset(X_train_tokenized, y_train_tokenized)\n",
        "val_dataset = Dataset(X_val_tokenized, y_val_tokenized)"
      ],
      "metadata": {
        "id": "hJ_n51dFjxW4"
      },
      "execution_count": null,
      "outputs": []
    },
    {
      "cell_type": "markdown",
      "source": [
        "## Training"
      ],
      "metadata": {
        "id": "LDXPlm_t_TPt"
      }
    },
    {
      "cell_type": "code",
      "source": [
        "def compute_metrics(p):\n",
        "    print(type(p))\n",
        "    pred, labels = p\n",
        "    pred = np.argmax(pred, axis=1)\n",
        "\n",
        "    accuracy = accuracy_score(y_true=labels, y_pred=pred)\n",
        "    recall = recall_score(y_true=labels, y_pred=pred)\n",
        "    precision = precision_score(y_true=labels, y_pred=pred)\n",
        "    f1 = f1_score(y_true=labels, y_pred=pred)\n",
        "\n",
        "    return {\"accuracy\": accuracy, \"precision\": precision, \"recall\": recall, \"f1\": f1}"
      ],
      "metadata": {
        "id": "kHzziRWsXXSP"
      },
      "execution_count": null,
      "outputs": []
    },
    {
      "cell_type": "markdown",
      "source": [
        "Training for 1 epoch with 4e-7 LR and 1 warmup steps.  \n",
        "Train batch size of 24 is safe for T4 GPU."
      ],
      "metadata": {
        "id": "zZI6_MGa_WUu"
      }
    },
    {
      "cell_type": "code",
      "source": [
        "# Define Trainer\n",
        "args = TrainingArguments(\n",
        "    output_dir=\"output\",\n",
        "    learning_rate=4e-7,  # a heuristic for 350,000 dataset length\n",
        "    num_train_epochs=1,  # number of training epochs\n",
        "    per_device_train_batch_size=24,  # batch size for training\n",
        "    per_device_eval_batch_size=24,  # batch size for evaluation\n",
        "    warmup_steps=100,  # number of warmup steps for learning rate scheduler\n",
        "    gradient_accumulation_steps=16,  # to make \"virtual\" batch size larger\n",
        "    fp16=True,\n",
        ")\n",
        "\n",
        "trainer = Trainer(\n",
        "    model=model,\n",
        "    args=args,\n",
        "    train_dataset=train_dataset,\n",
        "    eval_dataset=val_dataset,\n",
        "    compute_metrics=compute_metrics,\n",
        ")"
      ],
      "metadata": {
        "id": "zNd1szCZXZZI"
      },
      "execution_count": null,
      "outputs": []
    },
    {
      "cell_type": "code",
      "source": [
        "# Train\n",
        "trainer.train()"
      ],
      "metadata": {
        "id": "4Q9hS6Vmd35N"
      },
      "execution_count": null,
      "outputs": []
    },
    {
      "cell_type": "code",
      "source": [
        "# Save the model\n",
        "model.save_pretrained('./model')\n",
        "tokenizer.save_pretrained('./model')"
      ],
      "metadata": {
        "id": "R1hp93WSG8RO"
      },
      "execution_count": null,
      "outputs": []
    },
    {
      "cell_type": "markdown",
      "source": [
        "## Testing"
      ],
      "metadata": {
        "id": "TPBNzL9L_yyQ"
      }
    },
    {
      "cell_type": "code",
      "source": [
        "# Function for inferencing\n",
        "def test_model(model, input):\n",
        "\n",
        "  inputs = tokenizer(input, return_tensors='pt')\n",
        "  inputs.to(\"cuda\")\n",
        "\n",
        "  generated_token_ids = model.generate(\n",
        "      **inputs,\n",
        "      top_k=10,\n",
        "      top_p=0.95,\n",
        "      num_beams=3,\n",
        "      num_return_sequences=1,\n",
        "      do_sample=True,\n",
        "      no_repeat_ngram_size=2,\n",
        "      temperature=0.7,\n",
        "      repetition_penalty=1.2,\n",
        "      length_penalty=1.0,\n",
        "      eos_token_id=50257,\n",
        "      max_new_tokens=400,\n",
        "      pad_token_id=0\n",
        "  )\n",
        "\n",
        "  context_with_response = [tokenizer.decode(sample_token_ids) for sample_token_ids in generated_token_ids]\n",
        "  return context_with_response"
      ],
      "metadata": {
        "id": "LURe1HGwKI2Z"
      },
      "execution_count": null,
      "outputs": []
    },
    {
      "cell_type": "code",
      "source": [
        "print(test_model(model, input=\"\"\"@@ПЕРВЫЙ@@Привет, как дела?@@ВТОРОЙ@@\"\"\"))"
      ],
      "metadata": {
        "id": "bZsyWpuYMFKl"
      },
      "execution_count": null,
      "outputs": []
    },
    {
      "cell_type": "code",
      "source": [
        "data = []\n",
        "\n",
        "# Run on test split\n",
        "for i in tqdm(range(test_size), desc=\"Testing\"):\n",
        "    # Get the input and output for the current row\n",
        "    input_value = splits[\"test\"][i]['input']\n",
        "    output_value = splits[\"test\"][i]['output']\n",
        "\n",
        "    # Apply your function to the input\n",
        "    predicted_output = test_model(model, input_value)[0].split(\"@@ВТОРОЙ@@\")[-1]\n",
        "\n",
        "    # Add the new row to the DataFrame\n",
        "    data.append({\n",
        "        'input': input_value,\n",
        "        'predict': predicted_output,\n",
        "        'output': output_value\n",
        "    })\n",
        "\n",
        "test_df = pd.DataFrame(data)"
      ],
      "metadata": {
        "id": "-zKeVJYDMLJc"
      },
      "execution_count": null,
      "outputs": []
    },
    {
      "cell_type": "code",
      "source": [
        "test_df"
      ],
      "metadata": {
        "id": "epDh6eZCVO2q"
      },
      "execution_count": null,
      "outputs": []
    },
    {
      "cell_type": "code",
      "source": [
        "# Save testing results\n",
        "test_df.to_csv(\"results.csv\")"
      ],
      "metadata": {
        "id": "AmFff64yX2J-"
      },
      "execution_count": null,
      "outputs": []
    },
    {
      "cell_type": "markdown",
      "source": [
        "Done with finetuning. Don't forget to copy the saved model elsewhere."
      ],
      "metadata": {
        "id": "vo39VbtlBtjp"
      }
    }
  ]
}